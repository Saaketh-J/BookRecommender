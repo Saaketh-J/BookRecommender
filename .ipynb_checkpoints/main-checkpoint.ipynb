{
 "cells": [
  {
   "cell_type": "code",
   "execution_count": 287,
   "metadata": {},
   "outputs": [],
   "source": [
    "import numpy as np  # linear algebra\n",
    "import pandas as pd  # data processing, CSV file I/O (e.g. pd.read_csv)\n",
    "from matplotlib import pyplot as plt\n",
    "# from surprise import SVD, Dataset, Reader, BaselineOnly, accuracy\n",
    "# from surprise.model_selection import train_test_split\n",
    "import pickle\n",
    "from sklearn.metrics.pairwise import cosine_similarity\n",
    "from sklearn.feature_extraction.text import CountVectorizer\n",
    "from random import randrange, sample\n",
    "from statistics import median\n"
   ]
  },
  {
   "cell_type": "code",
   "execution_count": 43,
   "metadata": {},
   "outputs": [],
   "source": [
    "books = pd.read_csv('./Data/books.csv')\n",
    "\n",
    "tags = pd.read_csv('./Data/real_tags.csv')\n",
    "\n",
    "ratings = pd.read_csv('./Data/ratings.csv')\n",
    "to_read = pd.read_csv('./Data/to_read.csv')"
   ]
  },
  {
   "cell_type": "code",
   "execution_count": 44,
   "metadata": {},
   "outputs": [
    {
     "data": {
      "text/html": [
       "<div>\n",
       "<style scoped>\n",
       "    .dataframe tbody tr th:only-of-type {\n",
       "        vertical-align: middle;\n",
       "    }\n",
       "\n",
       "    .dataframe tbody tr th {\n",
       "        vertical-align: top;\n",
       "    }\n",
       "\n",
       "    .dataframe thead th {\n",
       "        text-align: right;\n",
       "    }\n",
       "</style>\n",
       "<table border=\"1\" class=\"dataframe\">\n",
       "  <thead>\n",
       "    <tr style=\"text-align: right;\">\n",
       "      <th></th>\n",
       "      <th>book_id</th>\n",
       "      <th>goodreads_book_id</th>\n",
       "      <th>best_book_id</th>\n",
       "      <th>work_id</th>\n",
       "      <th>books_count</th>\n",
       "      <th>isbn</th>\n",
       "      <th>isbn13</th>\n",
       "      <th>authors</th>\n",
       "      <th>original_publication_year</th>\n",
       "      <th>original_title</th>\n",
       "      <th>...</th>\n",
       "      <th>ratings_count</th>\n",
       "      <th>work_ratings_count</th>\n",
       "      <th>work_text_reviews_count</th>\n",
       "      <th>ratings_1</th>\n",
       "      <th>ratings_2</th>\n",
       "      <th>ratings_3</th>\n",
       "      <th>ratings_4</th>\n",
       "      <th>ratings_5</th>\n",
       "      <th>image_url</th>\n",
       "      <th>small_image_url</th>\n",
       "    </tr>\n",
       "  </thead>\n",
       "  <tbody>\n",
       "    <tr>\n",
       "      <th>182</th>\n",
       "      <td>183</td>\n",
       "      <td>7171637</td>\n",
       "      <td>7171637</td>\n",
       "      <td>6674837</td>\n",
       "      <td>103</td>\n",
       "      <td>1416975861</td>\n",
       "      <td>9.781417e+12</td>\n",
       "      <td>Cassandra Clare</td>\n",
       "      <td>2010.0</td>\n",
       "      <td>Clockwork Angel</td>\n",
       "      <td>...</td>\n",
       "      <td>490890</td>\n",
       "      <td>515759</td>\n",
       "      <td>24385</td>\n",
       "      <td>8364</td>\n",
       "      <td>15544</td>\n",
       "      <td>61409</td>\n",
       "      <td>140928</td>\n",
       "      <td>289514</td>\n",
       "      <td>https://images.gr-assets.com/books/1454962884m...</td>\n",
       "      <td>https://images.gr-assets.com/books/1454962884s...</td>\n",
       "    </tr>\n",
       "  </tbody>\n",
       "</table>\n",
       "<p>1 rows × 23 columns</p>\n",
       "</div>"
      ],
      "text/plain": [
       "     book_id  goodreads_book_id  best_book_id  work_id  books_count  \\\n",
       "182      183            7171637       7171637  6674837          103   \n",
       "\n",
       "           isbn        isbn13          authors  original_publication_year  \\\n",
       "182  1416975861  9.781417e+12  Cassandra Clare                     2010.0   \n",
       "\n",
       "      original_title  ... ratings_count work_ratings_count  \\\n",
       "182  Clockwork Angel  ...        490890             515759   \n",
       "\n",
       "     work_text_reviews_count  ratings_1  ratings_2  ratings_3  ratings_4  \\\n",
       "182                    24385       8364      15544      61409     140928   \n",
       "\n",
       "     ratings_5                                          image_url  \\\n",
       "182     289514  https://images.gr-assets.com/books/1454962884m...   \n",
       "\n",
       "                                       small_image_url  \n",
       "182  https://images.gr-assets.com/books/1454962884s...  \n",
       "\n",
       "[1 rows x 23 columns]"
      ]
     },
     "execution_count": 44,
     "metadata": {},
     "output_type": "execute_result"
    }
   ],
   "source": [
    "books.loc[books.title == 'Clockwork Angel (The Infernal Devices, #1)']"
   ]
  },
  {
   "cell_type": "code",
   "execution_count": 45,
   "metadata": {},
   "outputs": [],
   "source": [
    "books.drop(['image_url', 'small_image_url', 'isbn', 'isbn13', 'best_book_id', 'books_count', 'original_title', ], axis=1, inplace=True)"
   ]
  },
  {
   "cell_type": "code",
   "execution_count": 46,
   "metadata": {},
   "outputs": [],
   "source": [
    "books_to_remove = []\n",
    "ratings_remove = []\n",
    "Calvin = books[books['title'].str.contains(\"Calvin\")].index.tolist()\n",
    "books_to_remove.extend(Calvin)\n",
    "for x in Calvin:\n",
    "    ratings_remove.extend(ratings[ratings.book_id == books.iloc[x].book_id].index.tolist())\n",
    "Bible = [463, 2043, 2235, 4777, 5918, 7946, 8890]\n",
    "books_to_remove.extend(Bible)\n",
    "for x in Bible:\n",
    "    ratings_remove.extend(list(ratings[ratings.book_id == books.iloc[x].book_id].index))\n",
    "Divan = books[books['title'].str.contains(\"The Divan\")].index.tolist()\n",
    "books_to_remove.extend(Divan)\n",
    "for x in Divan:\n",
    "    ratings_remove.extend(list(ratings[ratings.book_id == books.iloc[x].book_id].index))\n",
    "Jesus = books[books['title'].str.contains(\"Jesus\")].index.tolist()\n",
    "books_to_remove.extend(Jesus)\n",
    "for x in Jesus:\n",
    "    ratings_remove.extend(list(ratings[ratings.book_id == books.iloc[x].book_id].index))\n"
   ]
  },
  {
   "cell_type": "code",
   "execution_count": 47,
   "metadata": {},
   "outputs": [],
   "source": [
    "books.drop(books_to_remove, inplace=True)\n",
    "ratings.drop(ratings_remove, inplace=True)"
   ]
  },
  {
   "cell_type": "code",
   "execution_count": 48,
   "metadata": {},
   "outputs": [],
   "source": [
    "def prediction_item(item):\n",
    "    item_id = int(books.loc[books.title == item].book_id)\n",
    "    predictions = []\n",
    "    for ui in full_data.all_users():\n",
    "        predictions.append(loaded_model.predict(iid=item_id,uid=full_data.to_raw_uid(ui), verbose = False))\n",
    "    return predictions"
   ]
  },
  {
   "cell_type": "code",
   "execution_count": 133,
   "metadata": {},
   "outputs": [],
   "source": [
    "def similar_users(item):\n",
    "    item_id = int(books.loc[books.title == item].book_id)\n",
    "    similar_users = list(ratings.loc[(ratings.book_id == item_id) & (ratings.rating == 5)].user_id)\n",
    "    similar_users = dict.fromkeys(similar_users, 1)\n",
    "\n",
    "    return similar_users"
   ]
  },
  {
   "cell_type": "code",
   "execution_count": 276,
   "metadata": {},
   "outputs": [],
   "source": [
    "def similar_tags(item_id):\n",
    "    item_id = int(books.loc[books.book_id == item_id].goodreads_book_id)\n",
    "    return list(tags.loc[tags.goodreads_book_id == item_id].tag_id)"
   ]
  },
  {
   "cell_type": "code",
   "execution_count": 277,
   "metadata": {},
   "outputs": [],
   "source": [
    "def similar_title_tags(item_title):\n",
    "    item_id = int(books.loc[books.title == item_title].goodreads_book_id)\n",
    "    return list(tags.loc[tags.goodreads_book_id == item_id].tag_id)"
   ]
  },
  {
   "cell_type": "code",
   "execution_count": 298,
   "metadata": {},
   "outputs": [],
   "source": [
    "def pred_books(book_list):\n",
    "    book_id_store=set()\n",
    "    users = {}\n",
    "    # Giving users a higher rating for each inputted book they rated a 5\n",
    "    for book in book_list:\n",
    "        sim_users = similar_users(item = book)\n",
    "        users = {x: (y + 1 if x in users else 1) for x, y in sim_users.items()}\n",
    "    # Choose the 10 most closest users to the inputter\n",
    "    users = ([x for x,y in sorted(users.items(), key = lambda item: item[1], reverse=True)][:10])\n",
    "    \n",
    "    #Remove the books that were inputted from ratings\n",
    "    remove_books = []\n",
    "    for u in users:\n",
    "        for b in book_list:\n",
    "            try:\n",
    "                rating_to_remove = ratings[(ratings.user_id == u) & (ratings.book_id == int(books.loc[books.title == b].book_id))].index[0]\n",
    "                remove_books.append(rating_to_remove)\n",
    "            except:\n",
    "                pass\n",
    "            \n",
    "    avail_books = ratings.drop(remove_books)\n",
    "\n",
    "    # Get a list of all the other books that the users rated a 5\n",
    "    for i in users:\n",
    "        high_rated = list(avail_books.loc[(avail_books.user_id == i) & (avail_books.rating == 5)].book_id)\n",
    "        book_id_store.update(high_rated)\n",
    "    \n",
    "    # Get a list of all the tags associated with the inputted books\n",
    "    given_tags = set()\n",
    "    for book in book_list:\n",
    "        sim_tags = similar_title_tags(item_title = book)\n",
    "        given_tags.update(sim_tags)\n",
    "        \n",
    "    # Give each book a higher rating for each tag that they have in common with the inputted books\n",
    "    high_rated = dict.fromkeys(list(book_id_store), 1)\n",
    "    for i in high_rated.keys():\n",
    "        sim_tags = similar_tags(item_id = i)\n",
    "        for tag in sim_tags:\n",
    "            if tag in given_tags:\n",
    "                high_rated[i] += 0.5\n",
    "    \n",
    "    \n",
    "    book_id_store = [x for x in high_rated.keys() if (high_rated[x] >= median(high_rated.values()))]\n",
    "    \n",
    "    book_id_store = sample(list(book_id_store), 10)\n",
    "    \n",
    "    book_name_store = [books[books.book_id == x].title.item() for x in book_id_store]\n",
    "            \n",
    "    #return users, book_id_store, book_name_store\n",
    "    return book_id_store"
   ]
  },
  {
   "cell_type": "code",
   "execution_count": 299,
   "metadata": {},
   "outputs": [],
   "source": [
    "def get_info(id):\n",
    "    return books.loc[books.book_id == id]"
   ]
  },
  {
   "cell_type": "code",
   "execution_count": 300,
   "metadata": {},
   "outputs": [
    {
     "data": {
      "text/plain": [
       "[3462, 1488, 79, 1213, 214, 6, 296, 35, 5782, 3325]"
      ]
     },
     "execution_count": 300,
     "metadata": {},
     "output_type": "execute_result"
    }
   ],
   "source": [
    "pred_books(['Holes (Holes, #1)', 'Twenty Thousand Leagues Under the Sea', 'The BFG'])"
   ]
  },
  {
   "cell_type": "code",
   "execution_count": 286,
   "metadata": {
    "scrolled": true
   },
   "outputs": [],
   "source": [
    "# reader = Reader(rating_scale=(1,5))\n",
    "# data = Dataset.load_from_df(ratings[['user_id', 'book_id', 'rating']], reader)"
   ]
  },
  {
   "cell_type": "code",
   "execution_count": 10,
   "metadata": {},
   "outputs": [],
   "source": [
    "# full_data = data.build_full_trainset()\n",
    "# #svd.fit(full_data)"
   ]
  },
  {
   "cell_type": "code",
   "execution_count": 11,
   "metadata": {},
   "outputs": [],
   "source": [
    "# svd_file = 'SVD_model.sav'\n",
    "# pickle.dump(svd, open(svd_file, 'wb'))"
   ]
  },
  {
   "cell_type": "code",
   "execution_count": 12,
   "metadata": {},
   "outputs": [],
   "source": [
    "# loaded_model = pickle.load(open('../input/goodreadssvdmodel/SVD_model.sav', 'rb'))\n"
   ]
  },
  {
   "cell_type": "code",
   "execution_count": 14,
   "metadata": {},
   "outputs": [],
   "source": [
    "# all_book_id = ratings.book_id.unique()\n",
    "# top_n = []\n",
    "# for book_id in all_book_id:\n",
    "#     top_n.append(loaded_model.predict(uid = full_data.to_raw_uid(4657), iid = book_id))\n",
    "# top_n.sort(key=lambda x: x.est, reverse=True)\n",
    "# top = top_n[:20]"
   ]
  },
  {
   "cell_type": "code",
   "execution_count": 15,
   "metadata": {},
   "outputs": [],
   "source": [
    "# top_names = [books.loc[books.book_id == x.iid].title for x in top]\n",
    "# top_names"
   ]
  },
  {
   "cell_type": "code",
   "execution_count": null,
   "metadata": {},
   "outputs": [],
   "source": []
  }
 ],
 "metadata": {
  "kernelspec": {
   "display_name": "Python 3",
   "language": "python",
   "name": "python3"
  },
  "language_info": {
   "codemirror_mode": {
    "name": "ipython",
    "version": 3
   },
   "file_extension": ".py",
   "mimetype": "text/x-python",
   "name": "python",
   "nbconvert_exporter": "python",
   "pygments_lexer": "ipython3",
   "version": "3.8.3"
  }
 },
 "nbformat": 4,
 "nbformat_minor": 4
}
